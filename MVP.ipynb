{
 "cells": [
  {
   "attachments": {},
   "cell_type": "markdown",
   "id": "fc9a9681",
   "metadata": {},
   "source": [
    "## Analysis of Work-From-Home Trends"
   ]
  },
  {
   "cell_type": "markdown",
   "id": "c48899cd",
   "metadata": {},
   "source": [
    "The goal of this project is to figure out which residential NYC neighborhoods experienced the biggest transitions from in-person to work-from-home employment post pandemic, in order to sell our client's patented lumbar support pillows in a more targeted way.\n",
    "\n",
    "To this end, I picked out a single representative June 2019 weekday from the publicly available MTA turnstile dataset.  This entry will serve as a baseline, representing typical pre-Covid commute patterns.  My hypothesis is that the net outflow of people at a station (number of entries minus number of exits) between the hours of 3am and 1pm will have a strong correlation with net number of residents commuting to their work site. \n",
    "\n",
    "The figure below shows the ten stations with the highest morning outflow for this date.  We can already see that, while some stations are indeed in residential locations, others like Penn Station are major transit hubs. "
   ]
  },
  {
   "cell_type": "markdown",
   "id": "c0644159",
   "metadata": {},
   "source": [
    "<img src=\"https://raw.githubusercontent.com/andreilevin/EDA_project/main/mvpfig1.png\" \n",
    "      title=\"MVP Figure\" width=\"500\"/>"
   ]
  },
  {
   "cell_type": "markdown",
   "id": "5432f90c",
   "metadata": {},
   "source": [
    "The next step will be to  perform a similar analysis for a current (June 2021) weekday.  By comparing the two datasets and tracking outflow differences for each station, we will try to understand which neighborhoods show the most reduced outflows, both in terms of raw numbers and percentage change.  We theorize that in many cases, such reductions can be attributed due to residents who previously commuted to their work site but now work from home, making them an attractive market demographic for lumbar support pillows.   "
   ]
  },
  {
   "cell_type": "code",
   "execution_count": null,
   "id": "8a16371f",
   "metadata": {},
   "outputs": [],
   "source": []
  }
 ],
 "metadata": {
  "kernelspec": {
   "display_name": "Python 3",
   "language": "python",
   "name": "python3"
  },
  "language_info": {
   "codemirror_mode": {
    "name": "ipython",
    "version": 3
   },
   "file_extension": ".py",
   "mimetype": "text/x-python",
   "name": "python",
   "nbconvert_exporter": "python",
   "pygments_lexer": "ipython3",
   "version": "3.8.5"
  }
 },
 "nbformat": 4,
 "nbformat_minor": 5
}
